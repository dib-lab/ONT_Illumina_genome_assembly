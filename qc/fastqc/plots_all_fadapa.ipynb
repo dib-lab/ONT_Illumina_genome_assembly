{
 "cells": [
  {
   "cell_type": "code",
   "execution_count": null,
   "metadata": {},
   "outputs": [],
   "source": [
    "#!pip install fadapa"
   ]
  },
  {
   "cell_type": "code",
   "execution_count": 1,
   "metadata": {},
   "outputs": [],
   "source": [
    "# import fadapa\n",
    "from fadapa import Fadapa\n",
    "import os\n",
    "import pandas as pd\n",
    "import seaborn as sns\n",
    "import matplotlib.pyplot as plt\n",
    "import numpy as np"
   ]
  },
  {
   "cell_type": "code",
   "execution_count": 2,
   "metadata": {},
   "outputs": [
    {
     "name": "stdout",
     "output_type": "stream",
     "text": [
      "['Folivaceus_R1_fastqc', '.DS_Store', 'Fnottii_USPD16092508-N705-AK390_HV3JCCCXY_L7_2_fastqc', 'Fcat_USPD16092508-N711-AK392_HV3JCCCXY_L7_2_fastqc', 'Fnottii_USPD16092508-N705-AK390_HV3JCCCXY_L6_2_fastqc', 'Fcat_USPD16092508-N711-AK392_HV3JCCCXY_L6_2_fastqc', 'Axenica_USPD16092508-N706-AK391_HV3JCCCXY_L7_1_fastqc', 'Axenica_USPD16092508-N706-AK391_HV3JCCCXY_L6_1_fastqc', 'README.md', 'Folivaceus_R2_fastqc', 'plots_all_fadapa.ipynb', '.ipynb_checkpoints', 'Fnottii_USPD16092508-N705-AK390_HV3JCCCXY_L6_1_fastqc', 'Fcat_USPD16092508-N711-AK392_HV3JCCCXY_L6_1_fastqc', 'Fnottii_USPD16092508-N705-AK390_HV3JCCCXY_L7_1_fastqc', 'Fcat_USPD16092508-N711-AK392_HV3JCCCXY_L7_1_fastqc', 'Axenica_USPD16092508-N706-AK391_HV3JCCCXY_L6_2_fastqc', 'Axenica_USPD16092508-N706-AK391_HV3JCCCXY_L7_2_fastqc']\n"
     ]
    }
   ],
   "source": [
    "dirs = os.listdir()\n",
    "print(dirs)"
   ]
  },
  {
   "cell_type": "code",
   "execution_count": 7,
   "metadata": {},
   "outputs": [],
   "source": [
    "file_count = 0\n",
    "#df = pd.DataFrame()\n",
    "df = pd.DataFrame(index=df_tmp.index)\n",
    "for i in dirs:\n",
    "    if i.endswith(\"fastqc\"):\n",
    "        file_count +=1\n",
    "        species = i.split(\"_\")[0]+\"_\"+str(file_count)\n",
    "        f = Fadapa(i + '/fastqc_data.txt')\n",
    "        df_tmp = pd.DataFrame.from_records(f.clean_data('Per base sequence quality'))\n",
    "        df_tmp.columns = df_tmp.iloc[0]\n",
    "        df_tmp = df_tmp.iloc[1:]\n",
    "        df_tmp = df_tmp.set_index(['Base'])\n",
    "        df_tmp = df_tmp[['Mean']]\n",
    "        df_tmp.columns = [species]\n",
    "        df = df.join(df_tmp)"
   ]
  },
  {
   "cell_type": "code",
   "execution_count": 8,
   "metadata": {},
   "outputs": [],
   "source": [
    "df_tmp.index\n",
    "ranges = ['1','2','3','4','5','6','7','8','9','10','15','20','25','30','35','40','45','50','55',\n",
    "         '60','65','70','75','80','85','90','95','100','105','110','115','120','125','130','135','140','145','150']"
   ]
  },
  {
   "cell_type": "code",
   "execution_count": 9,
   "metadata": {},
   "outputs": [],
   "source": [
    "df = df.apply(pd.to_numeric)\n",
    "df.index = pd.to_numeric(ranges, errors='coerce')"
   ]
  },
  {
   "cell_type": "code",
   "execution_count": 10,
   "metadata": {},
   "outputs": [
    {
     "data": {
      "text/html": [
       "<div>\n",
       "<style scoped>\n",
       "    .dataframe tbody tr th:only-of-type {\n",
       "        vertical-align: middle;\n",
       "    }\n",
       "\n",
       "    .dataframe tbody tr th {\n",
       "        vertical-align: top;\n",
       "    }\n",
       "\n",
       "    .dataframe thead th {\n",
       "        text-align: right;\n",
       "    }\n",
       "</style>\n",
       "<table border=\"1\" class=\"dataframe\">\n",
       "  <thead>\n",
       "    <tr style=\"text-align: right;\">\n",
       "      <th></th>\n",
       "      <th>Folivaceus_1</th>\n",
       "      <th>Fnottii_2</th>\n",
       "      <th>Fcat_3</th>\n",
       "      <th>Fnottii_4</th>\n",
       "      <th>Fcat_5</th>\n",
       "      <th>Axenica_6</th>\n",
       "      <th>Axenica_7</th>\n",
       "      <th>Folivaceus_8</th>\n",
       "      <th>Fnottii_9</th>\n",
       "      <th>Fcat_10</th>\n",
       "      <th>Fnottii_11</th>\n",
       "      <th>Fcat_12</th>\n",
       "      <th>Axenica_13</th>\n",
       "      <th>Axenica_14</th>\n",
       "    </tr>\n",
       "  </thead>\n",
       "  <tbody>\n",
       "    <tr>\n",
       "      <th>1</th>\n",
       "      <td>31.312753</td>\n",
       "      <td>30.217500</td>\n",
       "      <td>30.624228</td>\n",
       "      <td>30.737953</td>\n",
       "      <td>31.139760</td>\n",
       "      <td>31.004462</td>\n",
       "      <td>31.632218</td>\n",
       "      <td>32.121740</td>\n",
       "      <td>31.547363</td>\n",
       "      <td>31.597166</td>\n",
       "      <td>30.934084</td>\n",
       "      <td>31.022727</td>\n",
       "      <td>31.230924</td>\n",
       "      <td>30.688809</td>\n",
       "    </tr>\n",
       "    <tr>\n",
       "      <th>2</th>\n",
       "      <td>34.340455</td>\n",
       "      <td>30.370059</td>\n",
       "      <td>31.062705</td>\n",
       "      <td>30.448514</td>\n",
       "      <td>31.114717</td>\n",
       "      <td>31.578419</td>\n",
       "      <td>31.625087</td>\n",
       "      <td>31.714907</td>\n",
       "      <td>31.572892</td>\n",
       "      <td>31.451646</td>\n",
       "      <td>31.550035</td>\n",
       "      <td>31.381397</td>\n",
       "      <td>31.177495</td>\n",
       "      <td>31.124091</td>\n",
       "    </tr>\n",
       "    <tr>\n",
       "      <th>3</th>\n",
       "      <td>34.209679</td>\n",
       "      <td>33.702741</td>\n",
       "      <td>34.655344</td>\n",
       "      <td>33.915133</td>\n",
       "      <td>34.856138</td>\n",
       "      <td>35.595224</td>\n",
       "      <td>35.726667</td>\n",
       "      <td>35.616973</td>\n",
       "      <td>35.395750</td>\n",
       "      <td>35.453238</td>\n",
       "      <td>35.204533</td>\n",
       "      <td>35.312790</td>\n",
       "      <td>34.978961</td>\n",
       "      <td>34.787755</td>\n",
       "    </tr>\n",
       "    <tr>\n",
       "      <th>4</th>\n",
       "      <td>35.826221</td>\n",
       "      <td>34.391468</td>\n",
       "      <td>35.389419</td>\n",
       "      <td>34.501056</td>\n",
       "      <td>35.476343</td>\n",
       "      <td>36.192914</td>\n",
       "      <td>36.249692</td>\n",
       "      <td>36.457318</td>\n",
       "      <td>36.121820</td>\n",
       "      <td>35.910911</td>\n",
       "      <td>36.074382</td>\n",
       "      <td>35.784839</td>\n",
       "      <td>35.586935</td>\n",
       "      <td>35.497353</td>\n",
       "    </tr>\n",
       "    <tr>\n",
       "      <th>5</th>\n",
       "      <td>36.295030</td>\n",
       "      <td>34.805464</td>\n",
       "      <td>35.612210</td>\n",
       "      <td>34.924293</td>\n",
       "      <td>35.717076</td>\n",
       "      <td>36.392408</td>\n",
       "      <td>36.429324</td>\n",
       "      <td>35.304352</td>\n",
       "      <td>36.289629</td>\n",
       "      <td>36.353435</td>\n",
       "      <td>36.236899</td>\n",
       "      <td>36.318984</td>\n",
       "      <td>35.818730</td>\n",
       "      <td>35.713106</td>\n",
       "    </tr>\n",
       "  </tbody>\n",
       "</table>\n",
       "</div>"
      ],
      "text/plain": [
       "   Folivaceus_1  Fnottii_2     Fcat_3  Fnottii_4     Fcat_5  Axenica_6  \\\n",
       "1     31.312753  30.217500  30.624228  30.737953  31.139760  31.004462   \n",
       "2     34.340455  30.370059  31.062705  30.448514  31.114717  31.578419   \n",
       "3     34.209679  33.702741  34.655344  33.915133  34.856138  35.595224   \n",
       "4     35.826221  34.391468  35.389419  34.501056  35.476343  36.192914   \n",
       "5     36.295030  34.805464  35.612210  34.924293  35.717076  36.392408   \n",
       "\n",
       "   Axenica_7  Folivaceus_8  Fnottii_9    Fcat_10  Fnottii_11    Fcat_12  \\\n",
       "1  31.632218     32.121740  31.547363  31.597166   30.934084  31.022727   \n",
       "2  31.625087     31.714907  31.572892  31.451646   31.550035  31.381397   \n",
       "3  35.726667     35.616973  35.395750  35.453238   35.204533  35.312790   \n",
       "4  36.249692     36.457318  36.121820  35.910911   36.074382  35.784839   \n",
       "5  36.429324     35.304352  36.289629  36.353435   36.236899  36.318984   \n",
       "\n",
       "   Axenica_13  Axenica_14  \n",
       "1   31.230924   30.688809  \n",
       "2   31.177495   31.124091  \n",
       "3   34.978961   34.787755  \n",
       "4   35.586935   35.497353  \n",
       "5   35.818730   35.713106  "
      ]
     },
     "execution_count": 10,
     "metadata": {},
     "output_type": "execute_result"
    }
   ],
   "source": [
    "df.head()"
   ]
  },
  {
   "cell_type": "code",
   "execution_count": 22,
   "metadata": {},
   "outputs": [],
   "source": [
    "df = df[['Folivaceus_1','Axenica_6','Fnottii_11','Fcat_12',]]\n",
    "df.columns = ['F_olivaceus', 'F_xenicus','F_nottii','F_catenatus']"
   ]
  },
  {
   "cell_type": "code",
   "execution_count": 28,
   "metadata": {},
   "outputs": [
    {
     "data": {
      "image/png": "[encoded data removed]",
      "text/plain": [
       "<Figure size 1152x432 with 1 Axes>"
      ]
     },
     "metadata": {},
     "output_type": "display_data"
    }
   ],
   "source": [
    "sns.set_style(\"darkgrid\");\n",
    "sns.set(font_scale = 2);\n",
    "plt.figure(figsize=(16, 6));\n",
    "ax = sns.lineplot(data=df,dashes=False, color=\"black\", legend='brief');\n",
    "ax.set(ylim=(0, 45),xlim=(0,151));\n",
    "ax.set_ylabel(\"Phred Quality Score\",fontsize=20);\n",
    "ax.set_xlabel(\"Base Position\",fontsize=20);\n",
    "plt.fill_between(df.index, y1=30,y2=45, color=\"green\",alpha=0.1);\n",
    "plt.fill_between(df.index,y1=0,y2=30,color=\"red\",alpha=0.1);\n",
    "plt.savefig(\"multifastqc_plot.png\")"
   ]
  },
  {
   "cell_type": "code",
   "execution_count": null,
   "metadata": {},
   "outputs": [],
   "source": []
  }
 ],
 "metadata": {
  "kernelspec": {
   "display_name": "Python 3",
   "language": "python",
   "name": "python3"
  },
  "language_info": {
   "codemirror_mode": {
    "name": "ipython",
    "version": 3
   },
   "file_extension": ".py",
   "mimetype": "text/x-python",
   "name": "python",
   "nbconvert_exporter": "python",
   "pygments_lexer": "ipython3",
   "version": "3.7.1"
  }
 },
 "nbformat": 4,
 "nbformat_minor": 1
}
